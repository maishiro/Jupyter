{
 "cells": [
  {
   "cell_type": "code",
   "execution_count": 1,
   "source": [
    "import pandas as pd"
   ],
   "outputs": [],
   "metadata": {}
  },
  {
   "cell_type": "code",
   "execution_count": 2,
   "source": [
    "import psycopg2"
   ],
   "outputs": [],
   "metadata": {}
  },
  {
   "cell_type": "code",
   "execution_count": 3,
   "source": [
    "pd.set_option( 'display.max_rows', None )\r\n",
    "pd.set_option( 'display.max_columns', None )\r\n",
    "#pd.set_option( 'display.max_colwidth', None )"
   ],
   "outputs": [],
   "metadata": {}
  },
  {
   "cell_type": "code",
   "execution_count": null,
   "source": [],
   "outputs": [],
   "metadata": {}
  },
  {
   "cell_type": "code",
   "execution_count": 4,
   "source": [
    "con_config = {\r\n",
    "    'host': 'localhost',\r\n",
    "    'port': '5432',\r\n",
    "    'database': 'postgres',\r\n",
    "    'user': 'postgres',\r\n",
    "    'password': 'postgres'\r\n",
    "}\r\n",
    "con = psycopg2.connect( **con_config )\r\n",
    "con.autocommit = True\r\n",
    "cur = con.cursor()"
   ],
   "outputs": [],
   "metadata": {}
  },
  {
   "cell_type": "code",
   "execution_count": 5,
   "source": [
    "# DDL\r\n",
    "sql = \"\"\"\r\n",
    "    CREATE TABLE IF NOT EXISTS status (\r\n",
    "        id serial NOT NULL,\r\n",
    "        \"time\" timestamptz NOT NULL DEFAULT now(),\r\n",
    "        \"data\" int4 NOT NULL,\r\n",
    "        CONSTRAINT status_pkey2 PRIMARY KEY (id)\r\n",
    "    );\r\n",
    "\"\"\"\r\n",
    "cur.execute( sql )"
   ],
   "outputs": [],
   "metadata": {}
  },
  {
   "cell_type": "code",
   "execution_count": 6,
   "source": [
    "# truncate\r\n",
    "sql = \"\"\"\r\n",
    "    TRUNCATE TABLE status;\r\n",
    "\"\"\"\r\n",
    "cur.execute( sql )"
   ],
   "outputs": [],
   "metadata": {}
  },
  {
   "cell_type": "code",
   "execution_count": 7,
   "source": [
    "# insert\r\n",
    "sql = \"\"\"\r\n",
    "    INSERT INTO status\r\n",
    "    (id, \"time\", \"data\")\r\n",
    "    VALUES(1, '2021-08-10 22:00:18.000', 3);\r\n",
    "\"\"\"\r\n",
    "cur.execute( sql )"
   ],
   "outputs": [],
   "metadata": {}
  },
  {
   "cell_type": "code",
   "execution_count": 8,
   "source": [
    "sql = '''\r\n",
    "    SELECT * FROM status;\r\n",
    "'''\r\n",
    "df = pd.read_sql( sql=sql, con=con )\r\n",
    "df"
   ],
   "outputs": [
    {
     "output_type": "execute_result",
     "data": {
      "text/plain": [
       "   id                      time  data\n",
       "0   1 2021-08-10 13:00:18+00:00     3"
      ],
      "text/html": [
       "<div>\n",
       "<style scoped>\n",
       "    .dataframe tbody tr th:only-of-type {\n",
       "        vertical-align: middle;\n",
       "    }\n",
       "\n",
       "    .dataframe tbody tr th {\n",
       "        vertical-align: top;\n",
       "    }\n",
       "\n",
       "    .dataframe thead th {\n",
       "        text-align: right;\n",
       "    }\n",
       "</style>\n",
       "<table border=\"1\" class=\"dataframe\">\n",
       "  <thead>\n",
       "    <tr style=\"text-align: right;\">\n",
       "      <th></th>\n",
       "      <th>id</th>\n",
       "      <th>time</th>\n",
       "      <th>data</th>\n",
       "    </tr>\n",
       "  </thead>\n",
       "  <tbody>\n",
       "    <tr>\n",
       "      <th>0</th>\n",
       "      <td>1</td>\n",
       "      <td>2021-08-10 13:00:18+00:00</td>\n",
       "      <td>3</td>\n",
       "    </tr>\n",
       "  </tbody>\n",
       "</table>\n",
       "</div>"
      ]
     },
     "metadata": {},
     "execution_count": 8
    }
   ],
   "metadata": {}
  },
  {
   "cell_type": "code",
   "execution_count": null,
   "source": [],
   "outputs": [],
   "metadata": {}
  },
  {
   "cell_type": "code",
   "execution_count": null,
   "source": [],
   "outputs": [],
   "metadata": {}
  },
  {
   "cell_type": "code",
   "execution_count": 9,
   "source": [
    "con.close()"
   ],
   "outputs": [],
   "metadata": {}
  },
  {
   "cell_type": "code",
   "execution_count": null,
   "source": [],
   "outputs": [],
   "metadata": {}
  }
 ],
 "metadata": {
  "orig_nbformat": 4,
  "language_info": {
   "name": "python",
   "version": "3.8.10",
   "mimetype": "text/x-python",
   "codemirror_mode": {
    "name": "ipython",
    "version": 3
   },
   "pygments_lexer": "ipython3",
   "nbconvert_exporter": "python",
   "file_extension": ".py"
  },
  "kernelspec": {
   "name": "python3",
   "display_name": "Python 3.8.10 64-bit (conda)"
  },
  "interpreter": {
   "hash": "e80a6488b2029a6b44246c91f50d18663cbcdfb159854e70bb65d393306ebd60"
  }
 },
 "nbformat": 4,
 "nbformat_minor": 2
}