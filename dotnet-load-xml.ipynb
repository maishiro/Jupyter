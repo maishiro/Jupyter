{
 "cells": [
  {
   "cell_type": "code",
   "execution_count": null,
   "source": [
    "#i \"nuget:https://pkgs.dev.azure.com/dnceng/public/_packaging/dotnet5/nuget/v3/index.json\" \r\n",
    "#i \"nuget:https://pkgs.dev.azure.com/dnceng/public/_packaging/dotnet-tools/nuget/v3/index.json\" \r\n",
    "    \r\n",
    "#r \"nuget:Microsoft.Data.Analysis,0.2.0\"\r\n",
    "#r \"nuget:XPlot.Plotly.Interactive,4.0.2\""
   ],
   "outputs": [],
   "metadata": {
    "dotnet_interactive": {
     "language": "csharp"
    }
   }
  },
  {
   "cell_type": "code",
   "execution_count": null,
   "source": [
    "using System;\r\n",
    "using System.IO;\r\n",
    "using System.Linq;\r\n",
    "using System.Xml;\r\n",
    "\r\n",
    "using Microsoft.Data.Analysis;\r\n",
    "using static Microsoft.DotNet.Interactive.Formatting.PocketViewTags;\r\n",
    "using Microsoft.DotNet.Interactive.Formatting;\r\n",
    "\r\n",
    "using XPlot.Plotly;"
   ],
   "outputs": [],
   "metadata": {
    "dotnet_interactive": {
     "language": "csharp"
    }
   }
  },
  {
   "cell_type": "code",
   "execution_count": null,
   "source": [
    "// https://github.com/dotnet/interactive/blob/main/samples/notebooks/csharp/Samples/DataFrame-Getting%20Started.ipynb\r\n",
    "\r\n",
    "using Microsoft.AspNetCore.Html;\r\n",
    "Formatter.Register<DataFrame>((df, writer) =>\r\n",
    "{\r\n",
    "    var headers = new List<IHtmlContent>();\r\n",
    "    headers.Add(th(i(\"index\")));\r\n",
    "    headers.AddRange(df.Columns.Select(c => (IHtmlContent) th(c.Name)));\r\n",
    "    var rows = new List<List<IHtmlContent>>();\r\n",
    "    var take = 20;\r\n",
    "    for (var i = 0; i < Math.Min(take, df.Rows.Count); i++)\r\n",
    "    {\r\n",
    "        var cells = new List<IHtmlContent>();\r\n",
    "        cells.Add(td(i));\r\n",
    "        foreach (var obj in df.Rows[i])\r\n",
    "        {\r\n",
    "            cells.Add(td(obj));\r\n",
    "        }\r\n",
    "        rows.Add(cells);\r\n",
    "    }\r\n",
    "    \r\n",
    "    var t = table(\r\n",
    "        thead(\r\n",
    "            headers),\r\n",
    "        tbody(\r\n",
    "            rows.Select(\r\n",
    "                r => tr(r))));\r\n",
    "    \r\n",
    "    writer.Write(t);\r\n",
    "}, \"text/html\");"
   ],
   "outputs": [],
   "metadata": {
    "dotnet_interactive": {
     "language": "csharp"
    }
   }
  },
  {
   "cell_type": "code",
   "execution_count": null,
   "source": [
    "string[] fileEntries = Directory.GetFiles( @\".\", \"*.xml\" );"
   ],
   "outputs": [],
   "metadata": {
    "dotnet_interactive": {
     "language": "csharp"
    }
   }
  },
  {
   "cell_type": "code",
   "execution_count": null,
   "source": [
    "fileEntries"
   ],
   "outputs": [],
   "metadata": {
    "dotnet_interactive": {
     "language": "csharp"
    }
   }
  },
  {
   "cell_type": "code",
   "execution_count": null,
   "source": [],
   "outputs": [],
   "metadata": {
    "dotnet_interactive": {
     "language": "csharp"
    }
   }
  },
  {
   "cell_type": "code",
   "execution_count": null,
   "source": [
    "// coverage.cobertura.xml\r\n",
    "// https://docs.microsoft.com/ja-jp/dotnet/core/testing/unit-testing-code-coverage?tabs=windows#integrate-with-net-test\r\n",
    "\r\n",
    "var xmlDoc = new XmlDocument();\r\n",
    "xmlDoc.Load( @\"./coverage.cobertura.xml\" );"
   ],
   "outputs": [],
   "metadata": {
    "dotnet_interactive": {
     "language": "csharp"
    }
   }
  },
  {
   "cell_type": "code",
   "execution_count": null,
   "source": [
    "var node = xmlDoc.SelectSingleNode( \"coverage\" );\r\n",
    "if( node != null )\r\n",
    "{\r\n",
    "    var strLineRate     = node.Attributes[\"line-rate\"].InnerText;\r\n",
    "    var strLinesCovered = node.Attributes[\"lines-covered\"].InnerText;\r\n",
    "    var strLinesValid   = node.Attributes[\"lines-valid\"].InnerText;\r\n",
    "\r\n",
    "    var dLineRate       = double.Parse( strLineRate );\r\n",
    "    var nLinesCovered   = int.Parse( strLinesCovered );\r\n",
    "    var nLinesValid     = int.Parse( strLinesValid );\r\n",
    "\r\n",
    "    Console.WriteLine( $\"{dLineRate} {nLinesCovered}/{nLinesValid}\" );\r\n",
    "}\r\n"
   ],
   "outputs": [],
   "metadata": {
    "dotnet_interactive": {
     "language": "csharp"
    }
   }
  },
  {
   "cell_type": "code",
   "execution_count": null,
   "source": [
    "DataFrame df = new DataFrame();\r\n",
    "df.Columns.Add( new PrimitiveDataFrameColumn<DateTime>(\"datetime\") );\r\n",
    "df.Columns.Add( new PrimitiveDataFrameColumn<double>(\"line_rate\") );\r\n",
    "df.Columns.Add( new PrimitiveDataFrameColumn<int>(\"lines_covered\") );\r\n",
    "df.Columns.Add( new PrimitiveDataFrameColumn<int>(\"lines_valid\") );"
   ],
   "outputs": [],
   "metadata": {
    "dotnet_interactive": {
     "language": "csharp"
    }
   }
  },
  {
   "cell_type": "code",
   "execution_count": null,
   "source": [
    "df.Append( new List<object> { DateTime.Parse(\"2019/01/01\"), 100, 12, 12 } );"
   ],
   "outputs": [],
   "metadata": {
    "dotnet_interactive": {
     "language": "csharp"
    }
   }
  },
  {
   "cell_type": "code",
   "execution_count": null,
   "source": [
    "df"
   ],
   "outputs": [],
   "metadata": {
    "dotnet_interactive": {
     "language": "csharp"
    }
   }
  },
  {
   "cell_type": "code",
   "execution_count": null,
   "source": [],
   "outputs": [],
   "metadata": {
    "dotnet_interactive": {
     "language": "csharp"
    }
   }
  }
 ],
 "metadata": {
  "orig_nbformat": 4,
  "language_info": {
   "file_extension": ".cs",
   "mimetype": "text/x-csharp",
   "name": "C#",
   "pygments_lexer": "csharp",
   "version": "9.0"
  },
  "kernelspec": {
   "name": ".net-csharp",
   "display_name": ".NET (C#)",
   "language": "C#"
  },
  "interpreter": {
   "hash": "e80a6488b2029a6b44246c91f50d18663cbcdfb159854e70bb65d393306ebd60"
  }
 },
 "nbformat": 4,
 "nbformat_minor": 2
}