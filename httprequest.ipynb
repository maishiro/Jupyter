{
    "cells": [
        {
            "cell_type": "code",
            "execution_count": null,
            "source": [
                "import json\r\n",
                "import http.client, urllib.parse"
            ],
            "outputs": [],
            "metadata": {}
        },
        {
            "cell_type": "code",
            "execution_count": null,
            "source": [
                "conn = http.client.HTTPConnection( \"localhost:5000\" )\r\n",
                "# conn = http.client.HTTPSConnection( \"localhost:5001\" )"
            ],
            "outputs": [],
            "metadata": {}
        },
        {
            "cell_type": "code",
            "execution_count": null,
            "source": [],
            "outputs": [],
            "metadata": {}
        },
        {
            "cell_type": "code",
            "execution_count": null,
            "source": [
                "conn.request( \"GET\", \"/Posts/\" )\r\n",
                "res = conn.getresponse()\r\n",
                "body = res.read()\r\n",
                "\r\n",
                "# レスポンスコードの表示\r\n",
                "print( res.status, res.reason )\r\n",
                "# レスポンスヘッダ\r\n",
                "print( res.getheaders() )\r\n",
                "# レスポンスボディ\r\n",
                "obj = json.loads( body.decode() )\r\n",
                "print( json.dumps( obj, indent=4, ensure_ascii=False ) )"
            ],
            "outputs": [],
            "metadata": {}
        },
        {
            "cell_type": "code",
            "execution_count": null,
            "source": [],
            "outputs": [],
            "metadata": {}
        },
        {
            "cell_type": "code",
            "execution_count": null,
            "source": [
                "# params = urllib.parse.urlencode({'@number': 12524, '@type': 'issue', '@action': 'show'})\r\n",
                "headers = { \"Content-type\": \"application/json\" } # , \"Accept\": \"application/json\"\r\n",
                "body = json.dumps( {\r\n",
                "  \"post\": {\r\n",
                "    \"title\": \"こんにちは\",\r\n",
                "    \"content\": \"良い天気ですね\"\r\n",
                "  }\r\n",
                "} )\r\n",
                "# conn.request( \"POST\", \"/Posts/\", params=params, headers=headers )\r\n",
                "conn.request( \"POST\", \"/Posts\", body=body, headers=headers )\r\n",
                "res = conn.getresponse()\r\n",
                "body = res.read()\r\n",
                "\r\n",
                "# レスポンスコードの表示\r\n",
                "print( res.status, res.reason )\r\n",
                "# レスポンスヘッダ\r\n",
                "print( res.getheaders() )\r\n",
                "# レスポンスボディ\r\n",
                "obj = json.loads( body.decode() )\r\n",
                "print( json.dumps( obj, indent=4, ensure_ascii=False ) )"
            ],
            "outputs": [],
            "metadata": {}
        },
        {
            "cell_type": "code",
            "execution_count": null,
            "source": [],
            "outputs": [],
            "metadata": {}
        }
    ],
    "metadata": {
        "orig_nbformat": 4,
        "language_info": {
            "name": "python",
            "version": "3.8.10",
            "mimetype": "text/x-python",
            "codemirror_mode": {
                "name": "ipython",
                "version": 3
            },
            "pygments_lexer": "ipython3",
            "nbconvert_exporter": "python",
            "file_extension": ".py"
        },
        "kernelspec": {
            "name": "python3",
            "display_name": "Python 3.8.10 64-bit (conda)"
        },
        "interpreter": {
            "hash": "e80a6488b2029a6b44246c91f50d18663cbcdfb159854e70bb65d393306ebd60"
        }
    },
    "nbformat": 4,
    "nbformat_minor": 2
}