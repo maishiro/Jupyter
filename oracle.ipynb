{
 "cells": [
  {
   "cell_type": "code",
   "execution_count": null,
   "source": [
    "import cx_Oracle\r\n",
    "import pandas as pd\r\n",
    "import pandas.io.sql as psql"
   ],
   "outputs": [],
   "metadata": {}
  },
  {
   "cell_type": "code",
   "execution_count": null,
   "source": [
    "pd.set_option( 'display.max_rows', None )\r\n",
    "pd.set_option( 'display.max_columns', None )\r\n",
    "#pd.set_option( 'display.max_colwidth', None )"
   ],
   "outputs": [],
   "metadata": {}
  },
  {
   "cell_type": "code",
   "execution_count": null,
   "source": [
    "con = cx_Oracle.connect( 'username/password@127.0.0.1/xe' )\r\n",
    "cur = con.cursor()"
   ],
   "outputs": [],
   "metadata": {}
  },
  {
   "cell_type": "code",
   "execution_count": null,
   "source": [],
   "outputs": [],
   "metadata": {}
  },
  {
   "cell_type": "code",
   "execution_count": null,
   "source": [
    "# insert\r\n",
    "sql = \"\"\"\r\n",
    "    INSERT INTO status\r\n",
    "    (id, \"time\", \"data\")\r\n",
    "    VALUES(1, '2021-08-10 22:00:18.000', 3);\r\n",
    "\"\"\"\r\n",
    "cur.execute( sql )"
   ],
   "outputs": [],
   "metadata": {}
  },
  {
   "cell_type": "code",
   "execution_count": null,
   "source": [
    "sql = '''\r\n",
    "    SELECT * FROM status;\r\n",
    "'''\r\n",
    "df = pd.read_sql( sql=sql, con=con )\r\n",
    "df"
   ],
   "outputs": [],
   "metadata": {}
  },
  {
   "cell_type": "code",
   "execution_count": null,
   "source": [],
   "outputs": [],
   "metadata": {}
  },
  {
   "cell_type": "code",
   "execution_count": null,
   "source": [],
   "outputs": [],
   "metadata": {}
  },
  {
   "cell_type": "code",
   "execution_count": null,
   "source": [
    "con.close()"
   ],
   "outputs": [],
   "metadata": {}
  },
  {
   "cell_type": "code",
   "execution_count": null,
   "source": [],
   "outputs": [],
   "metadata": {}
  }
 ],
 "metadata": {
  "orig_nbformat": 4,
  "language_info": {
   "name": "python",
   "version": "3.8.10",
   "mimetype": "text/x-python",
   "codemirror_mode": {
    "name": "ipython",
    "version": 3
   },
   "pygments_lexer": "ipython3",
   "nbconvert_exporter": "python",
   "file_extension": ".py"
  },
  "kernelspec": {
   "name": "python3",
   "display_name": "Python 3.8.10 64-bit (conda)"
  },
  "interpreter": {
   "hash": "e80a6488b2029a6b44246c91f50d18663cbcdfb159854e70bb65d393306ebd60"
  }
 },
 "nbformat": 4,
 "nbformat_minor": 2
}