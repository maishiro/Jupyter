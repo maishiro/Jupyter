{
    "cells": [
        {
            "cell_type": "code",
            "execution_count": null,
            "source": [
                "import json\r\n",
                "\r\n",
                "from gql import gql, Client\r\n",
                "from gql.transport.requests import RequestsHTTPTransport\r\n",
                "# from gql.transport.aiohttp import AIOHTTPTransport"
            ],
            "outputs": [],
            "metadata": {}
        },
        {
            "cell_type": "code",
            "execution_count": null,
            "source": [],
            "outputs": [],
            "metadata": {}
        },
        {
            "cell_type": "code",
            "execution_count": null,
            "source": [
                "transport = RequestsHTTPTransport( url=\"http://localhost:5000/graphql\" )\r\n",
                "# transport = AIOHTTPTransport( url=\"https://localhost:5001/graphql\" )\r\n",
                "client = Client( transport=transport, fetch_schema_from_transport=True )"
            ],
            "outputs": [],
            "metadata": {}
        },
        {
            "cell_type": "code",
            "execution_count": null,
            "source": [],
            "outputs": [],
            "metadata": {}
        },
        {
            "cell_type": "code",
            "execution_count": null,
            "source": [
                "query = gql(\r\n",
                "    \"\"\"\r\n",
                "    query( $id: String ) {\r\n",
                "      droid( id: $id ) {\r\n",
                "          id\r\n",
                "          name\r\n",
                "      }\r\n",
                "    }\r\n",
                "\"\"\"\r\n",
                ")\r\n",
                "\r\n",
                "params = {\r\n",
                "  \"id\": \"1234\"\r\n",
                "}\r\n",
                "\r\n",
                "result = client.execute( query, variable_values=params )\r\n",
                "# result = await client.execute_async( query, variable_values=params )\r\n",
                "print( json.dumps( result, indent=\"    \" ) )"
            ],
            "outputs": [],
            "metadata": {}
        },
        {
            "cell_type": "code",
            "execution_count": null,
            "source": [],
            "outputs": [],
            "metadata": {}
        }
    ],
    "metadata": {
        "orig_nbformat": 4,
        "language_info": {
            "name": "python",
            "version": "3.8.10",
            "mimetype": "text/x-python",
            "codemirror_mode": {
                "name": "ipython",
                "version": 3
            },
            "pygments_lexer": "ipython3",
            "nbconvert_exporter": "python",
            "file_extension": ".py"
        },
        "kernelspec": {
            "name": "python3",
            "display_name": "Python 3.8.10 64-bit (conda)"
        },
        "interpreter": {
            "hash": "e80a6488b2029a6b44246c91f50d18663cbcdfb159854e70bb65d393306ebd60"
        }
    },
    "nbformat": 4,
    "nbformat_minor": 2
}