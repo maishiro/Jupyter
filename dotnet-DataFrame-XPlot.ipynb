{
 "cells": [
  {
   "cell_type": "code",
   "execution_count": null,
   "source": [
    "#i \"nuget:https://pkgs.dev.azure.com/dnceng/public/_packaging/dotnet5/nuget/v3/index.json\" \r\n",
    "#i \"nuget:https://pkgs.dev.azure.com/dnceng/public/_packaging/dotnet-tools/nuget/v3/index.json\" \r\n",
    "    \r\n",
    "#r \"nuget:Microsoft.Data.Analysis,0.2.0\"\r\n",
    "#r \"nuget:XPlot.Plotly.Interactive,4.0.2\""
   ],
   "outputs": [],
   "metadata": {
    "dotnet_interactive": {
     "language": "csharp"
    }
   }
  },
  {
   "cell_type": "code",
   "execution_count": null,
   "source": [
    "using System.Linq;\r\n",
    "using Microsoft.Data.Analysis;\r\n",
    "using static Microsoft.DotNet.Interactive.Formatting.PocketViewTags;\r\n",
    "using Microsoft.DotNet.Interactive.Formatting;\r\n",
    "\r\n",
    "using XPlot.Plotly;"
   ],
   "outputs": [],
   "metadata": {
    "dotnet_interactive": {
     "language": "csharp"
    }
   }
  },
  {
   "cell_type": "code",
   "execution_count": null,
   "source": [
    "// https://github.com/dotnet/interactive/blob/main/samples/notebooks/csharp/Samples/DataFrame-Getting%20Started.ipynb\r\n",
    "\r\n",
    "using Microsoft.AspNetCore.Html;\r\n",
    "Formatter.Register<DataFrame>((df, writer) =>\r\n",
    "{\r\n",
    "    var headers = new List<IHtmlContent>();\r\n",
    "    headers.Add(th(i(\"index\")));\r\n",
    "    headers.AddRange(df.Columns.Select(c => (IHtmlContent) th(c.Name)));\r\n",
    "    var rows = new List<List<IHtmlContent>>();\r\n",
    "    var take = 20;\r\n",
    "    for (var i = 0; i < Math.Min(take, df.Rows.Count); i++)\r\n",
    "    {\r\n",
    "        var cells = new List<IHtmlContent>();\r\n",
    "        cells.Add(td(i));\r\n",
    "        foreach (var obj in df.Rows[i])\r\n",
    "        {\r\n",
    "            cells.Add(td(obj));\r\n",
    "        }\r\n",
    "        rows.Add(cells);\r\n",
    "    }\r\n",
    "    \r\n",
    "    var t = table(\r\n",
    "        thead(\r\n",
    "            headers),\r\n",
    "        tbody(\r\n",
    "            rows.Select(\r\n",
    "                r => tr(r))));\r\n",
    "    \r\n",
    "    writer.Write(t);\r\n",
    "}, \"text/html\");"
   ],
   "outputs": [],
   "metadata": {
    "dotnet_interactive": {
     "language": "csharp"
    }
   }
  },
  {
   "cell_type": "code",
   "execution_count": null,
   "source": [],
   "outputs": [],
   "metadata": {
    "dotnet_interactive": {
     "language": "csharp"
    }
   }
  },
  {
   "cell_type": "code",
   "execution_count": null,
   "source": [
    "// Getting Started With C# DataFrame and XPlot.Ploty\r\n",
    "// https://dzone.com/articles/getting-started-with-c-dataframe-and-xplotploty\r\n",
    "\r\n",
    "// ohlcdata.csv - http://phplot.sourceforge.net/phplotdocs/ex-ohlcbasic.html\r\n",
    "var df = DataFrame.LoadCsv( \"ohlcdata.csv\" );"
   ],
   "outputs": [],
   "metadata": {
    "dotnet_interactive": {
     "language": "csharp"
    }
   }
  },
  {
   "cell_type": "code",
   "execution_count": null,
   "source": [
    "df"
   ],
   "outputs": [],
   "metadata": {
    "dotnet_interactive": {
     "language": "csharp"
    }
   }
  },
  {
   "cell_type": "code",
   "execution_count": null,
   "source": [
    "df[\"Open\"]"
   ],
   "outputs": [],
   "metadata": {
    "dotnet_interactive": {
     "language": "csharp"
    }
   }
  },
  {
   "cell_type": "code",
   "execution_count": null,
   "source": [],
   "outputs": [],
   "metadata": {
    "dotnet_interactive": {
     "language": "csharp"
    }
   }
  },
  {
   "cell_type": "code",
   "execution_count": null,
   "source": [
    "var chart1 = Chart.Plot(\r\n",
    "    new Scatter\r\n",
    "    {\r\n",
    "        x = df[\"Date\"],\r\n",
    "        y = df[\"Open\"],        \r\n",
    "        mode = \"lines+markers\"\r\n",
    "    }\r\n",
    ");\r\n",
    "var chart1_layout = new Layout.Layout{\r\n",
    "    title=\"Open Price\",\r\n",
    "    xaxis =new Xaxis{\r\n",
    "        title = \"Date\",\r\n",
    "        // https://plotly.com/javascript/reference/layout/xaxis/#layout-xaxis-tickformat\r\n",
    "        // https://github.com/d3/d3-time-format/tree/v2.2.3#locale_format\r\n",
    "        tickformat = \"%Y/%m/%d\"\r\n",
    "    },\r\n",
    "    yaxis = new Yaxis{\r\n",
    "        title = \"Price (USD)\"\r\n",
    "    }           \r\n",
    "};\r\n",
    "chart1.WithLayout( chart1_layout );\r\n",
    "chart1"
   ],
   "outputs": [],
   "metadata": {
    "dotnet_interactive": {
     "language": "csharp"
    }
   }
  },
  {
   "cell_type": "code",
   "execution_count": null,
   "source": [
    "var chartHtml = chart1.GetHtml();\r\n",
    "System.IO.File.WriteAllText( \"./chart.html\", chartHtml );"
   ],
   "outputs": [],
   "metadata": {
    "dotnet_interactive": {
     "language": "csharp"
    }
   }
  },
  {
   "cell_type": "code",
   "execution_count": null,
   "source": [],
   "outputs": [],
   "metadata": {
    "dotnet_interactive": {
     "language": "csharp"
    }
   }
  }
 ],
 "metadata": {
  "kernelspec": {
   "display_name": ".NET (C#)",
   "language": "C#",
   "name": ".net-csharp"
  },
  "language_info": {
   "file_extension": ".cs",
   "mimetype": "text/x-csharp",
   "name": "C#",
   "pygments_lexer": "csharp",
   "version": "9.0"
  }
 },
 "nbformat": 4,
 "nbformat_minor": 5
}